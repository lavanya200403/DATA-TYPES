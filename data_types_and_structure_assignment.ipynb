{
  "nbformat": 4,
  "nbformat_minor": 0,
  "metadata": {
    "colab": {
      "provenance": []
    },
    "kernelspec": {
      "name": "python3",
      "display_name": "Python 3"
    },
    "language_info": {
      "name": "python"
    }
  },
  "cells": [
    {
      "cell_type": "markdown",
      "source": [
        "#DATA TYPE AND STRUCTURE (THEORY ANSWERS)\n",
        "\n",
        "#1.  What are data structures, and why are they important?\n",
        "\n",
        "    -> Data structure is a format used to store , mantain , access , and manipulate collection of data .\n",
        "\n",
        "    -> Importance of data type:\n",
        "       1. Record in suitable data structure\n",
        "       2. Conserve in memory usage\n",
        "       3. heps in data manipulation\n",
        "       4. sorting and accessing data efficiently.\n",
        "\n",
        "#2.  Explain the difference between mutable and immutable data types with examples ?\n",
        "\n",
        "    ->MUTABLE DATA TYPES: It is a type of data in which the object /variables data elements can be changed .\n",
        "    eg: lists etc\n",
        "\n",
        "    ->IMMUTABLE DATA TYPES: It is a type of data in which the object /variables of data elements cannot be changed .\n",
        "    eg:string , tuples etc.\n",
        "\n",
        "#3.   What are the main differences between lists and tuples in Python?\n",
        "\n",
        "    ->lists are mutable . Elements of list can be modified once created .\n",
        "     On the other hand, tuples are immutable . Elements of tuples cannot be modified once created .\n",
        "              \n",
        "#4.  Describe how dictionaries store data?\n",
        "\n",
        "    ->Dictionaries store data in a form of key value pairs .\n",
        "     You can access the value of pair from their keys .\n",
        "\n",
        "#5.  Why might you use a set instead of a list in Python?\n",
        "\n",
        "    ->Sets are unorderd collection of unique data.\n",
        "     Sets are useful for finding unions, intersaction and difference among different sets .\n",
        "\n",
        "#6.  What is a string in Python, and how is it different from a list?\n",
        "\n",
        "    ->String is a type of data structure in which characters are used in unorderd way like word, sentence , etc.\n",
        "\n",
        "    -> Strings are immutable data type .On the other hand , lists are mutable . Elements of list can be modified once created .\n",
        "\n",
        "#7.  How do tuples ensure data integrity in Python?\n",
        "\n",
        "    -> Tuples are immutable .\n",
        "     Elements of tuples cannot be modified once created .\n",
        "     They ensures the integrity of data in python .\n",
        "\n",
        "#8.  What is a hash table, and how does it relate to dictionaries in Python?\n",
        "\n",
        "    ->Hash table is used to store data in a key value pair format .\n",
        "    Dictionaries are made in python using hash table .\n",
        "\n",
        "\n",
        "\n",
        "#9.  Can lists contain different data types in Python?\n",
        "\n",
        "    ->yes a list can  contain different data types in Python like numbers , string , float , boolean etc .\n",
        "\n",
        "\n",
        "\n",
        "\n",
        "#10.  Explain why strings are immutable in Python?\n",
        "\n",
        "    ->String is a type of data structure in which characters are used in unorderd way like word, sentence , etc.\n",
        "     Strings are immutable data type once created  data elements cannot be changed .\n",
        "\n",
        "#11.  What advantages do dictionaries offer over lists for certain tasks?\n",
        "\n",
        "    ->Dictionaries store data in a form of key value pairs .\n",
        "     You can access the associated value of each pair from their keys .\n",
        "     They are useful in making resturent menu , employees id etc\n",
        "\n",
        "\n",
        "\n",
        "\n",
        "#12.  Describe a scenario where using a tuple would be preferable over a list?\n",
        "\n",
        "    -> If you want to make a collection of data more secure and preserve its integrity then tuple is preferable\n",
        "    eg: Employees id , adhar number , product unigue code etc.\n",
        "\n",
        "#13.  How do sets handle duplicate values in Python?\n",
        "\n",
        "    -> Sets are unorderd collection of unique data. They don't take duplicate data and only save unique elements .\n",
        "\n",
        "#14.  How does the “in” keyword work differently for lists and dictionaries?\n",
        "\n",
        "    ->\"in\" keyword is used in lists to figure out wheather the specific element belong to the list or not . On the other hand ,\"in\" keyword is used in dictionaries to test keys .\n",
        "\n",
        "#15.  Can you modify the elements of a tuple? Explain why or why not?\n",
        "\n",
        "    -> No ,once created you cannot modify the elements of a tuple because they store data in a secure way and don't accept modification to maintain integrity of data .\n",
        "\n",
        "\n",
        "\n",
        "#16.  What is a nested dictionary, and give an example of its use case?\n",
        "\n",
        "    ->Nested dictionary is a type of dictionary where its value are its self dictionary .\n",
        "    It is useful when you have to categorise data into different objects.\n",
        "    eg: resturant menu having different category like snacks , drinks, meals and then further category in snacks and drinks .\n",
        "\n",
        "\n",
        "\n",
        "#17.  Describe the time complexity of accessing elements in a dictionary?\n",
        "\n",
        "    ->time complexity of accessing elements in a dictionary by its keys is constant .\n",
        "\n",
        "\n",
        "#18.  In what situations are lists preferred over dictionaries ?\n",
        "\n",
        "    ->When the data does'nt require any key value pair and has a single category and want a ordered collection of data list is preferable.\n",
        "    eg: grocery list , friends name list etc .\n",
        "\n",
        "#19.  Why are dictionaries considered unordered, and how does that affect data retrieval?\n",
        "\n",
        "    ->Dictionaries are unordered pair of key value .\n",
        "    If yoy want to retrieve the data you have to access through the keys .\n",
        "\n",
        "#20. Explain the difference between a list and a dictionary in terms of data retrieval?\n",
        "\n",
        "    ->lists are mutable . Elements of list can be modified once created .\n",
        "    They are ordered elements can be access through index numbers\n",
        "\n",
        "    On the other hand,\n",
        "\n",
        "    ->Dictionaries are unordered pair of key value .\n",
        "    If yoy want to retrieve the data you have to access through the keys .\n",
        "\n",
        "\n",
        "\n",
        "    \n",
        "\n",
        "\n"
      ],
      "metadata": {
        "id": "B42uf9pgjQ_v"
      }
    },
    {
      "cell_type": "markdown",
      "source": [
        "#PRACTICAL ANSWERS"
      ],
      "metadata": {
        "id": "LF5mErdP_Ksh"
      }
    },
    {
      "cell_type": "markdown",
      "source": [
        "#ANSWER-1"
      ],
      "metadata": {
        "id": "FisYgE4x_RnA"
      }
    },
    {
      "cell_type": "code",
      "source": [
        "#Write a code to create a string with your name and print it?\n",
        "name = \"lavanya\"\n",
        "print(name)"
      ],
      "metadata": {
        "colab": {
          "base_uri": "https://localhost:8080/"
        },
        "id": "q7eF7WpC-2Zh",
        "outputId": "e48f9e37-a6b1-43ec-b1d9-725aafa6b2c9"
      },
      "execution_count": null,
      "outputs": [
        {
          "output_type": "stream",
          "name": "stdout",
          "text": [
            "lavanya\n"
          ]
        }
      ]
    },
    {
      "cell_type": "markdown",
      "source": [
        "#ANSWER-2"
      ],
      "metadata": {
        "id": "HpbUz8gx_sPp"
      }
    },
    {
      "cell_type": "code",
      "source": [
        "# Write a code to find the length of the string \"Hello World\"?\n",
        "st = \"Hello World\"\n",
        "len(st)"
      ],
      "metadata": {
        "colab": {
          "base_uri": "https://localhost:8080/"
        },
        "id": "iDJCbtMajsHt",
        "outputId": "a0f47729-8156-4ce4-bc1b-a1ed1a6c23cc"
      },
      "execution_count": null,
      "outputs": [
        {
          "output_type": "execute_result",
          "data": {
            "text/plain": [
              "11"
            ]
          },
          "metadata": {},
          "execution_count": 2
        }
      ]
    },
    {
      "cell_type": "markdown",
      "source": [
        "#ANSWER-3"
      ],
      "metadata": {
        "id": "Ok9ErmJOAFP7"
      }
    },
    {
      "cell_type": "code",
      "source": [
        "#Write a code to slice the first 3 characters from the string \"Python Programming\"\n",
        "pro = \"Python Programming\"\n",
        "print(pro[0:3])"
      ],
      "metadata": {
        "colab": {
          "base_uri": "https://localhost:8080/"
        },
        "id": "dokJ8_qgAIn2",
        "outputId": "17dfceb8-a3f4-416a-d5ba-aec829e6a34a"
      },
      "execution_count": null,
      "outputs": [
        {
          "output_type": "stream",
          "name": "stdout",
          "text": [
            "Pyt\n"
          ]
        }
      ]
    },
    {
      "cell_type": "markdown",
      "source": [
        "#ANSWER-4"
      ],
      "metadata": {
        "id": "VJnNXU-rApyg"
      }
    },
    {
      "cell_type": "code",
      "source": [
        "#Write a code to convert the string \"hello\" to uppercase?\n",
        "h = \"hello\"\n",
        "h.upper()"
      ],
      "metadata": {
        "colab": {
          "base_uri": "https://localhost:8080/",
          "height": 36
        },
        "id": "H9ji2AvGAIrd",
        "outputId": "2646b045-79a7-459b-edeb-10e066a71f67"
      },
      "execution_count": null,
      "outputs": [
        {
          "output_type": "execute_result",
          "data": {
            "text/plain": [
              "'HELLO'"
            ],
            "application/vnd.google.colaboratory.intrinsic+json": {
              "type": "string"
            }
          },
          "metadata": {},
          "execution_count": 7
        }
      ]
    },
    {
      "cell_type": "markdown",
      "source": [
        "#ANSWER-5"
      ],
      "metadata": {
        "id": "3HEfHSyJBTOM"
      }
    },
    {
      "cell_type": "code",
      "source": [
        "#Write a code to replace the word \"apple\" with \"orange\" in the string \"I like apple\"?\n",
        "s = \"I like apple\"\n",
        "t = s.replace(\"apple\" , \"orange\")\n",
        "t"
      ],
      "metadata": {
        "colab": {
          "base_uri": "https://localhost:8080/",
          "height": 36
        },
        "id": "N90Qh9kZAvwF",
        "outputId": "a3b77d73-86e3-4efe-f69f-f61b4541936b"
      },
      "execution_count": null,
      "outputs": [
        {
          "output_type": "execute_result",
          "data": {
            "text/plain": [
              "'I like orange'"
            ],
            "application/vnd.google.colaboratory.intrinsic+json": {
              "type": "string"
            }
          },
          "metadata": {},
          "execution_count": 11
        }
      ]
    },
    {
      "cell_type": "markdown",
      "source": [
        "#ANSWER-6"
      ],
      "metadata": {
        "id": "drPZadTFCjPk"
      }
    },
    {
      "cell_type": "code",
      "source": [
        "#Write a code to create a list with numbers 1 to 5 and print it\n",
        "l = list(range(1,6))\n",
        "l"
      ],
      "metadata": {
        "colab": {
          "base_uri": "https://localhost:8080/"
        },
        "id": "t7nMfms5Avzn",
        "outputId": "c0988e62-ac48-4ce0-e60e-98338ad1633f"
      },
      "execution_count": null,
      "outputs": [
        {
          "output_type": "execute_result",
          "data": {
            "text/plain": [
              "[1, 2, 3, 4, 5]"
            ]
          },
          "metadata": {},
          "execution_count": 22
        }
      ]
    },
    {
      "cell_type": "markdown",
      "source": [
        "#ANSWER-7"
      ],
      "metadata": {
        "id": "wDKlnd5_EMg3"
      }
    },
    {
      "cell_type": "code",
      "source": [
        "#Write a code to append the number 10 to the list [1, 2, 3, 4]?\n",
        "l2 = [1, 2, 3, 4]\n",
        "l2.append(10)\n",
        "l2"
      ],
      "metadata": {
        "colab": {
          "base_uri": "https://localhost:8080/"
        },
        "id": "1MffCX3-AwBs",
        "outputId": "0d77e818-adcb-48b5-dfb3-9ab83ec65a5e"
      },
      "execution_count": null,
      "outputs": [
        {
          "output_type": "execute_result",
          "data": {
            "text/plain": [
              "[1, 2, 3, 4, 10]"
            ]
          },
          "metadata": {},
          "execution_count": 20
        }
      ]
    },
    {
      "cell_type": "markdown",
      "source": [
        "#ANSWER-8"
      ],
      "metadata": {
        "id": "dTvBdbB6EvBB"
      }
    },
    {
      "cell_type": "code",
      "source": [
        "#Write a code to remove the number 3 from the list [1, 2, 3, 4, 5]?\n",
        "l3 = [1, 2, 3, 4, 5]\n",
        "l3.remove(3)\n",
        "l3"
      ],
      "metadata": {
        "colab": {
          "base_uri": "https://localhost:8080/"
        },
        "id": "HYm_uViwEuUE",
        "outputId": "119b42f4-6ab4-45c4-acce-cc1e6dd08222"
      },
      "execution_count": null,
      "outputs": [
        {
          "output_type": "execute_result",
          "data": {
            "text/plain": [
              "[1, 2, 4, 5]"
            ]
          },
          "metadata": {},
          "execution_count": 24
        }
      ]
    },
    {
      "cell_type": "markdown",
      "source": [
        "#ANSWER-9"
      ],
      "metadata": {
        "id": "iFOKAyzaFokw"
      }
    },
    {
      "cell_type": "code",
      "source": [
        "#Write a code to access the second element in the list ['a', 'b', 'c', 'd']?\n",
        "l4 = [\"a\", \"b\", \"c\", \"d\"]\n",
        "l4"
      ],
      "metadata": {
        "colab": {
          "base_uri": "https://localhost:8080/"
        },
        "id": "fEwOfXbkGSaE",
        "outputId": "c4ff2726-5fdd-4c64-c8fc-9e4826bd950b"
      },
      "execution_count": 9,
      "outputs": [
        {
          "output_type": "execute_result",
          "data": {
            "text/plain": [
              "['a', 'b', 'c', 'd']"
            ]
          },
          "metadata": {},
          "execution_count": 9
        }
      ]
    },
    {
      "cell_type": "code",
      "source": [
        "print(l4[1])"
      ],
      "metadata": {
        "colab": {
          "base_uri": "https://localhost:8080/"
        },
        "id": "UWoP64mKI10g",
        "outputId": "23992213-b7fb-4720-af9e-957164b29444"
      },
      "execution_count": 11,
      "outputs": [
        {
          "output_type": "stream",
          "name": "stdout",
          "text": [
            "b\n"
          ]
        }
      ]
    },
    {
      "cell_type": "markdown",
      "source": [
        "#ANSWER-10"
      ],
      "metadata": {
        "id": "19qp8ZOjJsDr"
      }
    },
    {
      "cell_type": "code",
      "source": [
        "# Write a code to reverse the list [10, 20, 30, 40, 50].\n",
        "l5 = [10, 20, 30, 40, 50]\n",
        "print(l5[::-1])"
      ],
      "metadata": {
        "colab": {
          "base_uri": "https://localhost:8080/"
        },
        "id": "OqLdWlZeJvfk",
        "outputId": "9ab42c87-9881-42e2-8cc4-a6b917f532f5"
      },
      "execution_count": 19,
      "outputs": [
        {
          "output_type": "stream",
          "name": "stdout",
          "text": [
            "[50, 40, 30, 20, 10]\n"
          ]
        }
      ]
    },
    {
      "cell_type": "markdown",
      "source": [
        "#ANSWER-11"
      ],
      "metadata": {
        "id": "ubiT2EvrK981"
      }
    },
    {
      "cell_type": "code",
      "source": [
        "#Write a code to create a tuple with the elements 100, 200, 300 and print it\n",
        "t1 = (100, 200, 300)\n",
        "type(t1)"
      ],
      "metadata": {
        "colab": {
          "base_uri": "https://localhost:8080/"
        },
        "id": "sTxsPOMKJwcE",
        "outputId": "233320b8-1c8a-4dcf-e7db-476bbb1f53ad"
      },
      "execution_count": 20,
      "outputs": [
        {
          "output_type": "execute_result",
          "data": {
            "text/plain": [
              "tuple"
            ]
          },
          "metadata": {},
          "execution_count": 20
        }
      ]
    },
    {
      "cell_type": "markdown",
      "source": [
        "#ANSWER-12"
      ],
      "metadata": {
        "id": "ZkhnKL33LWF-"
      }
    },
    {
      "cell_type": "code",
      "source": [
        "#Write a code to access the second-to-last element of the tuple ('red', 'green', 'blue', 'yellow').\n",
        "t2 =  (\"red\", \"green'\", \"blue\", \"yellow\")\n",
        "print(t2[1:4])\n"
      ],
      "metadata": {
        "colab": {
          "base_uri": "https://localhost:8080/"
        },
        "id": "IbWz-IfPJwe7",
        "outputId": "84310aac-4c85-4bb4-8f08-6037c4e4d47d"
      },
      "execution_count": 24,
      "outputs": [
        {
          "output_type": "stream",
          "name": "stdout",
          "text": [
            "(\"green'\", 'blue', 'yellow')\n"
          ]
        }
      ]
    },
    {
      "cell_type": "markdown",
      "source": [
        "#ANSWER-13"
      ],
      "metadata": {
        "id": "zLOKkHGaMNXE"
      }
    },
    {
      "cell_type": "code",
      "source": [
        "# Write a code to find the minimum number in the tuple (10, 20, 5, 15).\n",
        "t3 = (10, 20, 5, 15)\n"
      ],
      "metadata": {
        "id": "sc0ZJsrzJwhj"
      },
      "execution_count": 26,
      "outputs": []
    },
    {
      "cell_type": "code",
      "source": [
        "min(t3)"
      ],
      "metadata": {
        "colab": {
          "base_uri": "https://localhost:8080/"
        },
        "id": "zs4ENJcyJwnG",
        "outputId": "fe3eeca7-3d10-414c-f6a4-d88b4d63577f"
      },
      "execution_count": 28,
      "outputs": [
        {
          "output_type": "execute_result",
          "data": {
            "text/plain": [
              "5"
            ]
          },
          "metadata": {},
          "execution_count": 28
        }
      ]
    },
    {
      "cell_type": "markdown",
      "source": [
        "#ANSWER-14"
      ],
      "metadata": {
        "id": "C3wiqtO_NLT9"
      }
    },
    {
      "cell_type": "code",
      "source": [
        "# Write a code to find the index of the element \"cat\" in the tuple ('dog', 'cat', 'rabbit').\n",
        "t4 = (\"dog\", \"cat\", \"rabbit\")\n"
      ],
      "metadata": {
        "id": "QKHwJQQhJwqv"
      },
      "execution_count": 4,
      "outputs": []
    },
    {
      "cell_type": "code",
      "source": [
        "t4.index(\"cat\")"
      ],
      "metadata": {
        "colab": {
          "base_uri": "https://localhost:8080/"
        },
        "id": "NDdRmlTuNQGE",
        "outputId": "6d85cbda-423a-4203-921a-1aad7c58d50e"
      },
      "execution_count": 3,
      "outputs": [
        {
          "output_type": "execute_result",
          "data": {
            "text/plain": [
              "1"
            ]
          },
          "metadata": {},
          "execution_count": 3
        }
      ]
    },
    {
      "cell_type": "markdown",
      "source": [
        "#ANSWER-15"
      ],
      "metadata": {
        "id": "snrd9g5RO1fb"
      }
    },
    {
      "cell_type": "code",
      "source": [
        "# Write a code to create a tuple containing three different fruits and check if \"kiwi\" is in it.\n",
        "t5 = (\"mango\", \"kiwi\", \"orange\")\n",
        "\"kiwi\" in t5"
      ],
      "metadata": {
        "colab": {
          "base_uri": "https://localhost:8080/"
        },
        "id": "sAwoqOMUO55K",
        "outputId": "c9dbbfdc-69e6-4dde-f0e6-795d47713d27"
      },
      "execution_count": 7,
      "outputs": [
        {
          "output_type": "execute_result",
          "data": {
            "text/plain": [
              "True"
            ]
          },
          "metadata": {},
          "execution_count": 7
        }
      ]
    },
    {
      "cell_type": "markdown",
      "source": [
        "#ANSWER-16"
      ],
      "metadata": {
        "id": "UlwBL67APkTL"
      }
    },
    {
      "cell_type": "code",
      "source": [
        "#Write a code to create a set with the elements 'a', 'b', 'c' and print it.\n",
        "set1 = {\"a\",\"b\",\"c\"}\n",
        "print(set1)"
      ],
      "metadata": {
        "colab": {
          "base_uri": "https://localhost:8080/"
        },
        "id": "bEuMmu-AO584",
        "outputId": "16ed336d-c068-4f6b-fd4a-aa4a92115b1c"
      },
      "execution_count": 11,
      "outputs": [
        {
          "output_type": "stream",
          "name": "stdout",
          "text": [
            "{'a', 'b', 'c'}\n"
          ]
        }
      ]
    },
    {
      "cell_type": "markdown",
      "source": [
        "#ANSWER-17"
      ],
      "metadata": {
        "id": "eAsUwB7EQF6t"
      }
    },
    {
      "cell_type": "code",
      "source": [
        "#Write a code to clear all elements from the set {1, 2, 3, 4, 5}.\n",
        "set2 = {1,2,3,4,5}\n",
        "set2.clear()\n",
        "set2"
      ],
      "metadata": {
        "colab": {
          "base_uri": "https://localhost:8080/"
        },
        "id": "57cz4ZiZO5_i",
        "outputId": "9ae41187-2a68-40f3-aa6a-8edaa2987290"
      },
      "execution_count": 15,
      "outputs": [
        {
          "output_type": "execute_result",
          "data": {
            "text/plain": [
              "set()"
            ]
          },
          "metadata": {},
          "execution_count": 15
        }
      ]
    },
    {
      "cell_type": "markdown",
      "source": [
        "#ANSWER-18"
      ],
      "metadata": {
        "id": "BXN7ncMGQcwA"
      }
    },
    {
      "cell_type": "code",
      "source": [
        "#Write a code to remove the element 4 from the set {1, 2, 3, 4}\n",
        "set3 = {1,2,3,4}\n",
        "set3.remove(4)\n",
        "set3"
      ],
      "metadata": {
        "colab": {
          "base_uri": "https://localhost:8080/"
        },
        "id": "_SkAhvc-QdyI",
        "outputId": "619ff6e2-880b-4b85-8f3e-c9b7eb344be0"
      },
      "execution_count": 17,
      "outputs": [
        {
          "output_type": "execute_result",
          "data": {
            "text/plain": [
              "{1, 2, 3}"
            ]
          },
          "metadata": {},
          "execution_count": 17
        }
      ]
    },
    {
      "cell_type": "markdown",
      "source": [
        "#ANSWER-19"
      ],
      "metadata": {
        "id": "JZx5q83KQ19y"
      }
    },
    {
      "cell_type": "code",
      "source": [
        "#Write a code to find the union of two sets {1, 2, 3} and {3, 4, 5}.\n",
        "set4 = {1,2,3}\n",
        "set5 = {3,4,5}\n",
        "set4|set5"
      ],
      "metadata": {
        "colab": {
          "base_uri": "https://localhost:8080/"
        },
        "id": "TgyeP1JeQd1W",
        "outputId": "fd752bb4-7874-48b8-ebee-72463a2953f8"
      },
      "execution_count": 18,
      "outputs": [
        {
          "output_type": "execute_result",
          "data": {
            "text/plain": [
              "{1, 2, 3, 4, 5}"
            ]
          },
          "metadata": {},
          "execution_count": 18
        }
      ]
    },
    {
      "cell_type": "markdown",
      "source": [
        "#ANSWER-20"
      ],
      "metadata": {
        "id": "ZWBrJy2MRPtI"
      }
    },
    {
      "cell_type": "code",
      "source": [
        "# Write a code to find the intersection of two sets {1, 2, 3} and {2, 3, 4}.\n",
        "set6 = {1,2,3}\n",
        "set7 = {2,3,4}\n",
        "set6 & set7"
      ],
      "metadata": {
        "colab": {
          "base_uri": "https://localhost:8080/"
        },
        "id": "uuQytQLrQ6Zm",
        "outputId": "d7fc9af6-4745-40d6-db21-db3b970a15bf"
      },
      "execution_count": 19,
      "outputs": [
        {
          "output_type": "execute_result",
          "data": {
            "text/plain": [
              "{2, 3}"
            ]
          },
          "metadata": {},
          "execution_count": 19
        }
      ]
    },
    {
      "cell_type": "markdown",
      "source": [
        "#ANSWER-21"
      ],
      "metadata": {
        "id": "YR4VriqnRm_q"
      }
    },
    {
      "cell_type": "code",
      "source": [
        "#Write a code to create a dictionary with the keys \"name\", \"age\", and \"city\", and print it.\n",
        "dic = {\"name\":\"aryan\", \"age\":18, \"city\":\"delhi\"}\n",
        "dic"
      ],
      "metadata": {
        "colab": {
          "base_uri": "https://localhost:8080/"
        },
        "id": "RnzjooQDRpmH",
        "outputId": "d820fe94-8e23-4628-b1ed-bc6e082d67c3"
      },
      "execution_count": 22,
      "outputs": [
        {
          "output_type": "execute_result",
          "data": {
            "text/plain": [
              "{'name': 'aryan', 'age': 18, 'city': 'delhi'}"
            ]
          },
          "metadata": {},
          "execution_count": 22
        }
      ]
    },
    {
      "cell_type": "markdown",
      "source": [
        "#ANSWER-22"
      ],
      "metadata": {
        "id": "8ZXkKIdhSLyR"
      }
    },
    {
      "cell_type": "code",
      "source": [
        "# Write a code to add a new key-value pair \"country\": \"USA\" to the dictionary {'name': 'John', 'age': 25}.\n",
        "dic2 = {\"name\":\"aryan\", \"age\":18}\n",
        "dic2[\"country\"] = \"usa\""
      ],
      "metadata": {
        "id": "IuPHPiAlRppF"
      },
      "execution_count": 24,
      "outputs": []
    },
    {
      "cell_type": "code",
      "source": [
        "dic2"
      ],
      "metadata": {
        "colab": {
          "base_uri": "https://localhost:8080/"
        },
        "id": "4LHj-WevRptQ",
        "outputId": "8c68b02f-c4cb-486f-b7ef-0996fe821286"
      },
      "execution_count": 25,
      "outputs": [
        {
          "output_type": "execute_result",
          "data": {
            "text/plain": [
              "{'name': 'aryan', 'age': 18, 'country': 'usa'}"
            ]
          },
          "metadata": {},
          "execution_count": 25
        }
      ]
    },
    {
      "cell_type": "markdown",
      "source": [
        "#ANSWER-23"
      ],
      "metadata": {
        "id": "mP73i2bhS4Mo"
      }
    },
    {
      "cell_type": "code",
      "source": [
        "#Write a code to access the value associated with the key \"name\" in the dictionary {'name': 'Alice', 'age': 30}.\n",
        "dic3 = {\"name\":\"alice\",\"age\":30}\n",
        "print(dic3)"
      ],
      "metadata": {
        "colab": {
          "base_uri": "https://localhost:8080/"
        },
        "id": "WUZBv8HtS8ZQ",
        "outputId": "9720535c-8f94-4c97-d8aa-f7cc931e9572"
      },
      "execution_count": 5,
      "outputs": [
        {
          "output_type": "stream",
          "name": "stdout",
          "text": [
            "{'name': 'alice', 'age': 30}\n"
          ]
        }
      ]
    },
    {
      "cell_type": "code",
      "source": [
        "print(dic3[\"name\"])"
      ],
      "metadata": {
        "colab": {
          "base_uri": "https://localhost:8080/"
        },
        "id": "K6CBoL0QNQMh",
        "outputId": "f928d369-f8a6-44b2-d19c-62e7175b55e2"
      },
      "execution_count": 6,
      "outputs": [
        {
          "output_type": "stream",
          "name": "stdout",
          "text": [
            "alice\n"
          ]
        }
      ]
    },
    {
      "cell_type": "markdown",
      "source": [
        "#ANSWER-24"
      ],
      "metadata": {
        "id": "5cz8aaCtUkXq"
      }
    },
    {
      "cell_type": "code",
      "source": [
        "# Write a code to remove the key \"age\" from the dictionary {'name': 'Bob', 'age': 22, 'city': 'New York'}.\n",
        "dic4 = {\"name\":\"bob\",\"age\":22,\"city\":\"new york\"}"
      ],
      "metadata": {
        "id": "6FgIqggfUjVZ"
      },
      "execution_count": 7,
      "outputs": []
    },
    {
      "cell_type": "code",
      "source": [
        "dic4.pop(\"age\")"
      ],
      "metadata": {
        "colab": {
          "base_uri": "https://localhost:8080/"
        },
        "id": "zU-qA2sEUjYW",
        "outputId": "099e9948-60bb-440c-8954-31def31841ea"
      },
      "execution_count": 8,
      "outputs": [
        {
          "output_type": "execute_result",
          "data": {
            "text/plain": [
              "22"
            ]
          },
          "metadata": {},
          "execution_count": 8
        }
      ]
    },
    {
      "cell_type": "code",
      "source": [
        "dic4"
      ],
      "metadata": {
        "colab": {
          "base_uri": "https://localhost:8080/"
        },
        "id": "5cHj-Jc_Uja9",
        "outputId": "9c6e4aa6-09e8-41fc-a957-cc7a767ec783"
      },
      "execution_count": 9,
      "outputs": [
        {
          "output_type": "execute_result",
          "data": {
            "text/plain": [
              "{'name': 'bob', 'city': 'new york'}"
            ]
          },
          "metadata": {},
          "execution_count": 9
        }
      ]
    },
    {
      "cell_type": "markdown",
      "source": [
        "#ANSWER-25"
      ],
      "metadata": {
        "id": "OrcScCHnVTrc"
      }
    },
    {
      "cell_type": "code",
      "source": [
        "# Write a code to check if the key \"city\" exists in the dictionary {'name': 'Alice', 'city': 'Paris'}.\n",
        "dic5 = {\"name\":\"bob\",\"city\":\"new york\"}"
      ],
      "metadata": {
        "id": "Qss6o0XZUjd4"
      },
      "execution_count": 10,
      "outputs": []
    },
    {
      "cell_type": "code",
      "source": [
        "dic5.keys()"
      ],
      "metadata": {
        "colab": {
          "base_uri": "https://localhost:8080/"
        },
        "id": "0wZvtwG9V4Kb",
        "outputId": "1ea98368-ab62-4de6-c26e-4a9a93b44352"
      },
      "execution_count": 12,
      "outputs": [
        {
          "output_type": "execute_result",
          "data": {
            "text/plain": [
              "dict_keys(['name', 'city'])"
            ]
          },
          "metadata": {},
          "execution_count": 12
        }
      ]
    },
    {
      "cell_type": "markdown",
      "source": [
        "#ANSWER-26"
      ],
      "metadata": {
        "id": "Qq3PAkAgV992"
      }
    },
    {
      "cell_type": "code",
      "source": [
        " #Write a code to create a list, a tuple, and a dictionary, and print them all\n",
        " list1 = [1,2,3]\n",
        " tuple1 = (4,5)\n",
        " dic7 = {\"name\":\"aryan\"}\n",
        " print(list1 , tuple1 , dic7)\n",
        ""
      ],
      "metadata": {
        "colab": {
          "base_uri": "https://localhost:8080/"
        },
        "id": "YUMJROW1V4Nh",
        "outputId": "4cfd7963-4312-4c46-c646-5da441f7a202"
      },
      "execution_count": 15,
      "outputs": [
        {
          "output_type": "stream",
          "name": "stdout",
          "text": [
            "[1, 2, 3] (4, 5) {'name': 'aryan'}\n"
          ]
        }
      ]
    },
    {
      "cell_type": "markdown",
      "source": [
        "#ANSWER-27"
      ],
      "metadata": {
        "id": "ml2ZFF_HbzbB"
      }
    },
    {
      "cell_type": "code",
      "source": [
        "# Write a code to create a list of 5 random numbers between 1 and 100, sort it in ascending order, and print the result.(replaced)\n",
        "list2 = [3,7,2,1]\n",
        "\n",
        "list2.sort()\n",
        "print(list2)\n",
        "\n"
      ],
      "metadata": {
        "colab": {
          "base_uri": "https://localhost:8080/"
        },
        "id": "rGOo3CyjV4Qm",
        "outputId": "dd170547-7798-47f7-fb41-74634ca46d93"
      },
      "execution_count": 19,
      "outputs": [
        {
          "output_type": "stream",
          "name": "stdout",
          "text": [
            "[1, 2, 3, 7]\n"
          ]
        }
      ]
    },
    {
      "cell_type": "markdown",
      "source": [
        "#ANSWER-28"
      ],
      "metadata": {
        "id": "8DDXQrrGdUGL"
      }
    },
    {
      "cell_type": "code",
      "source": [
        "# Write a code to create a list with strings and print the element at the third index\n",
        "list3 = [\"raj\",\"apple\", \"gaurav\",\"mango\"]\n",
        "print(list3[3])"
      ],
      "metadata": {
        "colab": {
          "base_uri": "https://localhost:8080/"
        },
        "id": "jeCLKxkRdXK0",
        "outputId": "cbe9e9e7-7a05-4e46-9ad5-68781947a7db"
      },
      "execution_count": 20,
      "outputs": [
        {
          "output_type": "stream",
          "name": "stdout",
          "text": [
            "mango\n"
          ]
        }
      ]
    },
    {
      "cell_type": "markdown",
      "source": [
        "#ANSWER-29"
      ],
      "metadata": {
        "id": "p3n1KTbpd2pG"
      }
    },
    {
      "cell_type": "code",
      "source": [
        "# Write a code to combine two dictionaries into one and print the result.\n",
        "dic7 = {\"name\":\"aryan\"}\n",
        "dic8 = {\"age\":20}\n",
        "dic7.update(dic8)"
      ],
      "metadata": {
        "id": "AEF5n5wpdXQV"
      },
      "execution_count": 2,
      "outputs": []
    },
    {
      "cell_type": "code",
      "source": [
        "dic7"
      ],
      "metadata": {
        "colab": {
          "base_uri": "https://localhost:8080/"
        },
        "id": "Fs1MhgvwV4UC",
        "outputId": "faab34c6-52d8-475f-cc96-fc5bb4530686"
      },
      "execution_count": 3,
      "outputs": [
        {
          "output_type": "execute_result",
          "data": {
            "text/plain": [
              "{'name': 'aryan', 'age': 20}"
            ]
          },
          "metadata": {},
          "execution_count": 3
        }
      ]
    },
    {
      "cell_type": "markdown",
      "source": [
        "#ANSWER-30"
      ],
      "metadata": {
        "id": "yHZQllLgfBjB"
      }
    },
    {
      "cell_type": "code",
      "source": [
        "# Write a code to convert a list of strings into a set.\n",
        "list4 = [\"raj\",\"apple\", \"gaurav\",\"mango\"]\n",
        "new = set(list4)\n",
        "print(new)"
      ],
      "metadata": {
        "colab": {
          "base_uri": "https://localhost:8080/"
        },
        "id": "HPtcFqeTfFBs",
        "outputId": "8024094c-6af1-40b9-af16-b422a5cb9e2c"
      },
      "execution_count": 10,
      "outputs": [
        {
          "output_type": "stream",
          "name": "stdout",
          "text": [
            "{'mango', 'raj', 'gaurav', 'apple'}\n"
          ]
        }
      ]
    }
  ]
}